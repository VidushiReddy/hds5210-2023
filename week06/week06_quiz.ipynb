{
  "cells": [
    {
      "cell_type": "markdown",
      "metadata": {
        "id": "fPFYkGBl56Bs"
      },
      "source": [
        "# In Class Quiz!\n",
        "\n",
        "This week, we are doing an in-class quiz to see how each of you is doing on your own.\n",
        "\n",
        "You must complete this work **entirely on your own** in the next 15 minutes.\n",
        "\n",
        "You may **not ask for help** from anyone **including Google or ChatGPT**.\n",
        "\n",
        "You **are allowed** to use class slides, the online textbook, previous assignments, and any other notes you have.\n",
        "\n",
        "This quiz will be worth **20 points**.\n"
      ]
    },
    {
      "cell_type": "markdown",
      "metadata": {
        "id": "2-O41R-156Bt"
      },
      "source": [
        "## Q6.1 - Mean Arterial Pressure (MAP)\n",
        "\n",
        "Mean Arterial Pressure can indicate if a patient is receiving sufficient blood to keep tissue alive.  You can see how to calculate MAP on the [Evidence tab of this page](https://www.mdcalc.com/calc/74/mean-arterial-pressure-map).  I've included the important details here for easy reference.\n",
        "\n",
        "* `map = (1/3 * systolic_bp) + (2/3 * diastolic_bp)`\n",
        "* If a patient has severe sepsis, we want their MAP to be ≥65 mmHg\n",
        "* If a patient does not have severe sepsis, we want their MAP to to be ≥60 mmHg\n",
        "* If the systolic_bp or diastolic_bp reported are ≤ 0, you should return `None`\n",
        "\n",
        "You need to create a function called `map_test()` that takes three parameters: `systolic_bp`, `diastolic_bp`, and `severe_sepsis`.\n",
        "* `systolic_bp` will be an integer\n",
        "* `diastolic_bp` will be an integer\n",
        "* `severe_sepsis` will be a boolean, indicating if the patient has severe sepsis (`True`) or not (`False`)\n",
        "\n",
        "Your function should return either a `True` or `False` depending on if the patient's Mean Arterial Pressure is sufficient to maintain a healthy condition.  That is:\n",
        "* If the patient has severe sepsis, then a MAP ≥ 65 should return True; otherwise False\n",
        "* If the patient does not have severe sepsis, then a MAP ≥ 60 should return True; otherwise False\n",
        "\n",
        "I have provided several test scenarios to help you verify your work.\n",
        "\n",
        "For full credit, your code must satisfy all of the following requirements:\n",
        "1. Pass all of the assert tests provided below\n",
        "2. Have a docstring with parameter types, function description, and at least 5 test cases that cover a range of inputs and outputs\n",
        "3. Successfully run all 5 tests when the *run_docstring_examples* cell is called\n",
        "4. Implement the rules above completely, even if a test scenario is not represented in the asserts or docstrings\n",
        "\n"
      ]
    },
    {
      "cell_type": "code",
      "execution_count": 6,
      "metadata": {
        "id": "FGJZ6l4956B0"
      },
      "outputs": [],
      "source": [
        "# Put your code here\n",
        "def map_test(systolic_bp, diastolic_bp, severe_sepsis):\n",
        "    # Check if systolic_bp or diastolic_bp is less than or equal to 0, return None\n",
        "    if systolic_bp <= 0 or diastolic_bp <= 0:\n",
        "        return None\n",
        "\n",
        "    # Calculate MAP\n",
        "    map_value = (1/3 * systolic_bp) + (2/3 * diastolic_bp)\n",
        "\n",
        "    # Check if the patient has severe sepsis\n",
        "    if severe_sepsis:\n",
        "        return map_value >= 65\n",
        "    else:\n",
        "        return map_value >= 60"
      ]
    },
    {
      "cell_type": "code",
      "execution_count": 7,
      "metadata": {
        "id": "v-2iqUYU56B1"
      },
      "outputs": [],
      "source": [
        "# map_test(systolic_bp, diastolic_bp, severe_sepsis) == True if the patient is getting enough oxygen to their body\n",
        "# map_test(systolic_bp, diastolic_bp, severe_sepsis) == False if the patient is not getting enough oxygen\n",
        "\n",
        "assert map_test(110, 70, False) == True\n",
        "assert map_test(90,  50, False) == True\n",
        "assert map_test(110, 70, True)  == True\n",
        "assert map_test(90,  50, True)  == False\n",
        "assert map_test(0,   70, False) == None\n",
        "assert map_test(110, 0,  False) == None\n",
        "assert map_test(0,   70, True)  == None\n",
        "assert map_test(110, 0,  True)  == None\n",
        "assert map_test(0,   0,  False) == None\n",
        "assert map_test(0,   0,  True)  == None"
      ]
    },
    {
      "cell_type": "code",
      "execution_count": 8,
      "metadata": {
        "id": "STomvYGl56B1",
        "outputId": "34e8afce-b3d6-43b7-f4e5-f8cf97254a35",
        "colab": {
          "base_uri": "https://localhost:8080/"
        }
      },
      "outputs": [
        {
          "output_type": "stream",
          "name": "stdout",
          "text": [
            "Finding tests in NoName\n"
          ]
        }
      ],
      "source": [
        "import doctest\n",
        "doctest.run_docstring_examples(map_test, globals(), verbose=True)"
      ]
    },
    {
      "cell_type": "markdown",
      "metadata": {
        "id": "w7KDYkWB56B1"
      },
      "source": [
        "## Q6.2\n",
        "\n",
        "Replace the `?` in each of the lines of code below with one of the following responses: `dict`, `list`, `str`, `int`, or `ERROR` if you think the code is invalid.\n",
        "\n",
        "Based on the following value of the variable `data`:\n",
        "\n",
        "```python\n",
        "data = [\n",
        "    {\n",
        "        \"last_name\": \"Boal\",\n",
        "        \"first_names\": [\"Paul\", \"Anny\"]\n",
        "    },\n",
        "    {\n",
        "        \"last_name\": \"Einstein\",\n",
        "        \"first_names\": [\"Albert\"]\n",
        "    }\n",
        "]\n",
        "```\n",
        "\n",
        "The first one is done for you to show as an example."
      ]
    },
    {
      "cell_type": "code",
      "execution_count": 15,
      "metadata": {
        "id": "t9DJvWoH56B1",
        "outputId": "ac5b0973-e9e4-4b30-e468-7addec528afc",
        "colab": {
          "base_uri": "https://localhost:8080/",
          "height": 35
        }
      },
      "outputs": [
        {
          "output_type": "execute_result",
          "data": {
            "text/plain": [
              "'type(data) == list'"
            ],
            "application/vnd.google.colaboratory.intrinsic+json": {
              "type": "string"
            }
          },
          "metadata": {},
          "execution_count": 15
        }
      ],
      "source": [
        "'type(data) == list'"
      ]
    },
    {
      "cell_type": "code",
      "execution_count": 16,
      "metadata": {
        "id": "iFhwaq3t56B1",
        "outputId": "04b70f77-45bf-4b41-ade0-4e737bbf1274",
        "colab": {
          "base_uri": "https://localhost:8080/",
          "height": 35
        }
      },
      "outputs": [
        {
          "output_type": "execute_result",
          "data": {
            "text/plain": [
              "'type(data[0]) == dict'"
            ],
            "application/vnd.google.colaboratory.intrinsic+json": {
              "type": "string"
            }
          },
          "metadata": {},
          "execution_count": 16
        }
      ],
      "source": [
        "'type(data[0]) == dict'"
      ]
    },
    {
      "cell_type": "code",
      "execution_count": 17,
      "metadata": {
        "id": "dbpZ3ExS56B1",
        "outputId": "b6ba17e1-8768-455e-e087-0eb63cd9fc2b",
        "colab": {
          "base_uri": "https://localhost:8080/",
          "height": 35
        }
      },
      "outputs": [
        {
          "output_type": "execute_result",
          "data": {
            "text/plain": [
              "'type(data[1]) == dict'"
            ],
            "application/vnd.google.colaboratory.intrinsic+json": {
              "type": "string"
            }
          },
          "metadata": {},
          "execution_count": 17
        }
      ],
      "source": [
        "'type(data[1]) == dict'"
      ]
    },
    {
      "cell_type": "code",
      "execution_count": 18,
      "metadata": {
        "id": "ut3rA6Ol56B1",
        "outputId": "7d75d8ce-b8e5-42c0-adc6-b4fb99da946e",
        "colab": {
          "base_uri": "https://localhost:8080/",
          "height": 35
        }
      },
      "outputs": [
        {
          "output_type": "execute_result",
          "data": {
            "text/plain": [
              "'type(data[0][\"first_names\"]) == list'"
            ],
            "application/vnd.google.colaboratory.intrinsic+json": {
              "type": "string"
            }
          },
          "metadata": {},
          "execution_count": 18
        }
      ],
      "source": [
        "'type(data[0][\"first_names\"]) == list'"
      ]
    },
    {
      "cell_type": "code",
      "execution_count": 20,
      "metadata": {
        "id": "s2IzUq7G56B1",
        "outputId": "78e33fc9-b2f2-41c2-c259-f1df579631b6",
        "colab": {
          "base_uri": "https://localhost:8080/",
          "height": 35
        }
      },
      "outputs": [
        {
          "output_type": "execute_result",
          "data": {
            "text/plain": [
              "'type(data[0][\"first_names\"][0]) == str'"
            ],
            "application/vnd.google.colaboratory.intrinsic+json": {
              "type": "string"
            }
          },
          "metadata": {},
          "execution_count": 20
        }
      ],
      "source": [
        "'type(data[0][\"first_names\"][0]) == str'"
      ]
    },
    {
      "cell_type": "code",
      "execution_count": 21,
      "metadata": {
        "colab": {
          "base_uri": "https://localhost:8080/",
          "height": 35
        },
        "id": "EqOdZH1056B1",
        "outputId": "f8af4928-d98b-46f1-da84-990d601ff7c2"
      },
      "outputs": [
        {
          "output_type": "execute_result",
          "data": {
            "text/plain": [
              "'type(data[-1][\"last_name\"]) == str'"
            ],
            "application/vnd.google.colaboratory.intrinsic+json": {
              "type": "string"
            }
          },
          "metadata": {},
          "execution_count": 21
        }
      ],
      "source": [
        "'type(data[-1][\"last_name\"]) == str'"
      ]
    },
    {
      "cell_type": "code",
      "execution_count": null,
      "metadata": {
        "id": "bkCajA2n56B2"
      },
      "outputs": [],
      "source": []
    }
  ],
  "metadata": {
    "kernelspec": {
      "display_name": ".venv",
      "language": "python",
      "name": "python3"
    },
    "language_info": {
      "codemirror_mode": {
        "name": "ipython",
        "version": 3
      },
      "file_extension": ".py",
      "mimetype": "text/x-python",
      "name": "python",
      "nbconvert_exporter": "python",
      "pygments_lexer": "ipython3",
      "version": "3.9.16"
    },
    "orig_nbformat": 4,
    "colab": {
      "provenance": []
    }
  },
  "nbformat": 4,
  "nbformat_minor": 0
}