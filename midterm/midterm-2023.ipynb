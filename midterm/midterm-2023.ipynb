{
  "cells": [
    {
      "cell_type": "markdown",
      "metadata": {
        "id": "Lk5QqUDOIexd"
      },
      "source": [
        "# HDS5210-2022 Midterm\n",
        "\n",
        "In the midterm, you're going to use all the programming and data management skills you've developed so far to build a risk calculator that pretends to be integrated with a clinical registry.  You'll compute the PRIEST COVID-19 Clinical Severity Score for a series of patients and, based on their risk of an adverse outcome, query a REST web service to find a hospital to transfer them to. The end result of your work will be a list of instructions on where each patient should be discharged given their risk and various characteristics of the patient.\n",
        "\n",
        "Each step in the midterm will build up to form your complete solution.\n",
        "\n",
        "**Make sure you write good docstrings and doctests along the way!!**\n",
        "\n",
        "**The midterm is due at 11:59 PM CST on Monday, October 23rd.**\n",
        "\n",
        "---"
      ]
    },
    {
      "cell_type": "markdown",
      "metadata": {
        "id": "NmjOPAj5Iexg"
      },
      "source": [
        "## Step 1: Calculate PRIEST Clinical Severity Score\n",
        "\n",
        "This scoring algorithm can be found [here on the MDCalc website](https://www.mdcalc.com/priest-covid-19-clinical-severity-score#evidence).  \n",
        "\n",
        "1. You will need to write a function called **priest()** with the following input parameters.  \n",
        " * Sex (Gender assigned at birth)\n",
        " * Age in years\n",
        " * Respiratory rate in breaths per minute\n",
        " * Oxygen saturation as a percent between 0 and 1\n",
        " * Heart rate in beats per minute\n",
        " * Systolic BP in mmHg\n",
        " * Temperature in degrees C\n",
        " * Alertness as a string description\n",
        " * Inspired Oxygen as as string description\n",
        " * Performance Status as a string description\n",
        "2. The function will need to follow the algorithm provided on the MDCalc website to compute a risk percentage that should be returned as a numeric value between 0 and 1.\n",
        "3. Be sure to use docstring documentation and at least three built-in docstring test cases.\n",
        "4. Assume that the input values that are strings could be any combination of upper or lower case. For example: 'male', 'Male', 'MALE', 'MalE' should all be interpretted by your code as male.\n",
        "5. If any of the inputs are invalid (for example a sex value that is not recognizable as male or female) your code should return None.\n",
        "\n",
        "NOTES:\n",
        "1. In the final step there is a table that translates from **PRIEST Score** to **30-day probability of an outcome** but the last two probabilities are shown as ranges (59-88% and >99%).  Our code needs to output a single number, however. For our code, use the following rule:\n",
        " * If PRIEST score is between 17 and 25, the probability you return should be 0.59\n",
        " * If PRIEST score is greater than or equal to 26, the probability you return should be 0.99\n"
      ]
    },
    {
      "cell_type": "code",
      "execution_count": 4,
      "metadata": {
        "id": "UWpgIE7rIexg"
      },
      "outputs": [],
      "source": [
        "def priest(patients_sex, patients_age, patients_resp, patients_os, patients_heart, patients_bp, patients_temp, patients_alert, patients_inspo, patients_status):\n",
        "    \"\"\"(str, int, int, int, int, float, float, str, str, str) -> (float)\n",
        "    Compute a risk percentage using the algorithm from MDCalc portal.\n",
        "\n",
        "    >>> priest('Male', 81, 27, 0.91, 40, 111, 36.1, 'Alert', 'AIR', 'Unrestricted normal activity')\n",
        "    0.47\n",
        "\n",
        "    >>> priest('MALE', 66, 12, 0.97, 132, 80, 34.5, 'Alert', 'Supplemental oxygen', 'Bed/chair bound, no self-care')\n",
        "    0.59\n",
        "\n",
        "    >>> priest('MALE', 16, 8, 0.89, 51, 169, 38.9, 'Confused or not alert', 'Supplemental oxygen', 'Unrestricted normal activity')\n",
        "    0.46\n",
        "    \"\"\"\n",
        "    risk_count = 0\n",
        "    last_risk = 0\n",
        "\n",
        "    # 'casefold()' method is stronger(https://www.w3schools.com/python/ref_string_casefold.asp)\n",
        "    patients_status = patients_status.casefold()\n",
        "    patients_sex = patients_sex.casefold()\n",
        "    patients_alert = patients_alert.casefold()\n",
        "    patients_inspo = patients_inspo.casefold()\n",
        "\n",
        "    # check\n",
        "    if patients_status not in [\"unrestricted normal activity\", \"limited strenuous activity, can do light activity\",\n",
        "                               \"limited activity, can self-care\", \"limited self-care\", \"bed/chair bound, no self-care\"]:\n",
        "        return None\n",
        "    if patients_sex not in [\"male\", \"female\"]:\n",
        "        return None\n",
        "    if patients_alert not in [\"alert\", \"confused or not alert\"]:\n",
        "        return None\n",
        "    if patients_inspo not in [\"air\", \"supplemental oxygen\"]:\n",
        "        return None\n",
        "\n",
        "    # Sex\n",
        "    if patients_sex == \"male\":\n",
        "        risk_count += 1\n",
        "\n",
        "    # Age\n",
        "    if patients_age > 80:\n",
        "        risk_count += 4\n",
        "    elif patients_age >= 66:\n",
        "        risk_count += 3\n",
        "    elif patients_age >= 50:\n",
        "        risk_count += 2\n",
        "\n",
        "    # Respiratory rate\n",
        "    if patients_resp < 9:\n",
        "        risk_count += 3\n",
        "    if patients_resp > 24:\n",
        "        risk_count += 3\n",
        "    elif 21 <= patients_resp <= 24:\n",
        "        risk_count += 2\n",
        "    elif 9 <= patients_resp <= 11:\n",
        "        risk_count += 1\n",
        "\n",
        "    # Oxygen saturation\n",
        "    if patients_os < 0.92:\n",
        "        risk_count += 3\n",
        "    elif patients_os <= 0.93:\n",
        "        risk_count += 2\n",
        "    elif patients_os <= 0.95:\n",
        "        risk_count += 1\n",
        "\n",
        "    # Heart rate\n",
        "    if patients_heart > 130:\n",
        "        risk_count += 3\n",
        "    elif patients_heart < 41:\n",
        "        risk_count += 3\n",
        "    elif 50 >= patients_heart >= 41 or 110 >= patients_heart >= 91:\n",
        "        risk_count += 1\n",
        "    elif 130 >= patients_heart >= 111:\n",
        "        risk_count += 2\n",
        "\n",
        "    # Systolic BP\n",
        "    if patients_bp < 91 or patients_bp > 219:\n",
        "        risk_count += 3\n",
        "    elif 91 <= patients_bp <= 100:\n",
        "        risk_count += 2\n",
        "    elif 101 <= patients_bp <= 110:\n",
        "        risk_count += 1\n",
        "\n",
        "    # Temperature\n",
        "    if patients_temp < 35.1:\n",
        "        risk_count += 3\n",
        "    elif 35.1 <= patients_temp <= 36.0:\n",
        "        risk_count += 1\n",
        "    elif 38.1 <= patients_temp <= 39.0:\n",
        "        risk_count += 1\n",
        "    elif 36.1 <= patients_temp <= 38.0:\n",
        "        risk_count += 0\n",
        "    else:\n",
        "        risk_count += 2\n",
        "\n",
        "    # Alertness\n",
        "    if patients_alert == \"confused or not alert\":\n",
        "        risk_count += 3\n",
        "\n",
        "    # Inspired oxygen\n",
        "    if patients_inspo == \"supplemental oxygen\":\n",
        "        risk_count += 2\n",
        "\n",
        "    # Performance status\n",
        "    if patients_status == \"bed/chair bound, no self-care\":\n",
        "        risk_count += 4\n",
        "    elif patients_status == \"limited strenuous activity, can do light activity\":\n",
        "        risk_count += 1\n",
        "    elif patients_status == \"limited activity, can self-care\":\n",
        "        risk_count += 2\n",
        "    elif patients_status == \"limited self-care\":\n",
        "        risk_count += 3\n",
        "\n",
        "    # Risk percentage\n",
        "    risk_map = {0: 0.01, 1: 0.01, 2: 0.02, 3: 0.02, 4: 0.03, 5: 0.09, 6: 0.15, 7: 0.18, 8: 0.22, 9: 0.26, 10: 0.29,\n",
        "                    11: 0.34, 12: 0.38, 13: 0.46, 14: 0.47, 15: 0.49, 16: 0.55}\n",
        "\n",
        "    if risk_count in risk_map:\n",
        "        last_risk += risk_map[risk_count]\n",
        "    elif 17 <= risk_count <= 25:\n",
        "        last_risk += 0.59\n",
        "    else:\n",
        "        last_risk += 0.99\n",
        "\n",
        "    # Return\n",
        "    return last_risk"
      ]
    },
    {
      "cell_type": "code",
      "execution_count": 5,
      "metadata": {
        "id": "iFAiQSGbIexh",
        "outputId": "a8a43688-1b72-48d0-a9c5-be3fadd592e1",
        "colab": {
          "base_uri": "https://localhost:8080/"
        }
      },
      "outputs": [
        {
          "output_type": "stream",
          "name": "stdout",
          "text": [
            "Finding tests in NoName\n",
            "Trying:\n",
            "    priest('Male', 81, 27, 0.91, 40, 111, 36.1, 'Alert', 'AIR', 'Unrestricted normal activity')\n",
            "Expecting:\n",
            "    0.47\n",
            "ok\n",
            "Trying:\n",
            "    priest('MALE', 66, 12, 0.97, 132, 80, 34.5, 'Alert', 'Supplemental oxygen', 'Bed/chair bound, no self-care')\n",
            "Expecting:\n",
            "    0.59\n",
            "ok\n",
            "Trying:\n",
            "    priest('MALE', 16, 8, 0.89, 51, 169, 38.9, 'Confused or not alert', 'Supplemental oxygen', 'Unrestricted normal activity')\n",
            "Expecting:\n",
            "    0.46\n",
            "ok\n"
          ]
        }
      ],
      "source": [
        "import doctest\n",
        "doctest.run_docstring_examples(priest, globals(),verbose=True)"
      ]
    },
    {
      "cell_type": "markdown",
      "metadata": {
        "id": "MhcYG74rIexi"
      },
      "source": [
        "## Part 2: Find a hospital\n",
        "\n",
        "The next thing we have to do is figure out where to send this particular patient.  The guidelines on where to send a patient are based on their age (pediatric, adult, geriatric), sex, and risk percentage.  Luckily, you don't have to implement these rules. I already have. All you have to do is use a REST web service that I've created for you.\n",
        "\n",
        "You'll want to use Python to make a call to my REST web service similar to the example URL below. The first part of the URL will be the same for everyone and every request that you make. What you will need to modify for each of your requests is the information after the question mark.\n",
        "\n",
        "```\n",
        "https://oumdj6oci2.execute-api.us-east-1.amazonaws.com/prd/?age=40&sex=male&risk_pct=0.1\n",
        "```\n",
        "\n",
        "The example above asks my web service where a 40-year old male with a risk of 10% should go.  What the web service will return back is a JSON string containing the information you need.  That JSON will look like this:\n",
        "\n",
        "```json\n",
        "{\n",
        "  \"age\": \"40\",\n",
        "  \"sex\": \"male\",\n",
        "  \"risk\": \"0.1\",\n",
        "  \"hospital\": \"Southwest Hospital and Medical Center\"\n",
        "}\n",
        "```\n",
        "\n",
        "My function is not smart enough to understand `'MALE'` is the same as `'male'`.  You have to send it exactly `'male'` or `'female'`\n",
        "\n",
        "1. Your job is to write a function called **find_hospital()** that takes age, sex, and risk as parameters.\n",
        "2. Your function should call this REST web service using the `requests` module\n",
        "3. Then your function will need to interpret the JSON it gets and return just the name of the hospital\n",
        "4. If anything fails, return None\n",
        "5. Include a good docstring with at least three test cases.\n"
      ]
    },
    {
      "cell_type": "code",
      "execution_count": 6,
      "metadata": {
        "id": "05ckqOjtIexi"
      },
      "outputs": [],
      "source": [
        "import requests\n",
        "\n",
        "def find_hospital(age, sex, priest):\n",
        "  \"\"\"(int, str, float) -> (str)\n",
        "  The function retrieves the name of the hospital by accessing a web service.\n",
        "\n",
        "  >>> find_hospital(30, 'male', 0.10)\n",
        "  'Southwest Hospital and Medical Center'\n",
        "\n",
        "  >>> find_hospital(30, 'female', 0.20)\n",
        "  'Select Specialty Hospital - Northeast Atlanta'\n",
        "\n",
        "  >>> find_hospital(68, 'male', 0.30)\n",
        "  'Wesley Woods Geriatric Hospital'\n",
        "  \"\"\"\n",
        "  # REST web service\n",
        "  api = 'https://oumdj6oci2.execute-api.us-east-1.amazonaws.com/prd/?age={}&sex={}&risk_pct={}'.format(age, sex, priest)\n",
        "  request = requests.get(api)\n",
        "\n",
        "  hospital_json = request.json()\n",
        "  hospital = hospital_json.get('hospital')\n",
        "\n",
        "  # Check\n",
        "  if hospital_json:\n",
        "    return hospital\n",
        "  else:\n",
        "    return None"
      ]
    },
    {
      "cell_type": "code",
      "execution_count": 7,
      "metadata": {
        "id": "XGETavuMIexi",
        "outputId": "b2385ae2-3e0e-4b97-8dd8-f945f69a343d",
        "colab": {
          "base_uri": "https://localhost:8080/"
        }
      },
      "outputs": [
        {
          "output_type": "stream",
          "name": "stdout",
          "text": [
            "Finding tests in NoName\n",
            "Trying:\n",
            "    find_hospital(30, 'male', 0.10)\n",
            "Expecting:\n",
            "    'Southwest Hospital and Medical Center'\n",
            "ok\n",
            "Trying:\n",
            "    find_hospital(30, 'female', 0.20)\n",
            "Expecting:\n",
            "    'Select Specialty Hospital - Northeast Atlanta'\n",
            "ok\n",
            "Trying:\n",
            "    find_hospital(68, 'male', 0.30)\n",
            "Expecting:\n",
            "    'Wesley Woods Geriatric Hospital'\n",
            "ok\n"
          ]
        }
      ],
      "source": [
        "import doctest\n",
        "doctest.run_docstring_examples(find_hospital, globals(),verbose=True)"
      ]
    },
    {
      "cell_type": "markdown",
      "metadata": {
        "id": "B2HCPARBIexj"
      },
      "source": [
        "## Part 3: Get the address for that hospital from a JSON file\n",
        "\n",
        "Great! Now we have code to tell us which hospital to send someone to... but we don't know where that hospital is. The next function we need to create is one that looks up the address of that hospital.  All of these hospitals are in Atlanta, Georgia.  We're going to use the list from this webpage to lookup the address for that hospital, based on its name.  https://www.officialusa.com/stateguides/health/hospitals/georgia.html\n",
        "\n",
        "Because we skipped the section about Beautiful Soup and working with HTML, I've converted this information into a JSON document for you.  It's available for you here.  Your code should retrieve this file using the `requests` module.\n",
        "\n",
        "`https://drive.google.com/uc?export=download&id=1fIFD-NkcdiMu941N4GjyMDWxiKsFJBw-`\n",
        "\n",
        "1. You need to create a function called **get_address()** that takes hospital name as a parameter and searches the data from this JSON file for the hospital you want to find.\n",
        "2. Your code will have to load the JSON and return the correct hospital based on name.\n",
        "3. If the hospital name isn't found, the function should return None.\n",
        "4. Be sure to use good docstring documentation and includes at least 3 test cases."
      ]
    },
    {
      "cell_type": "code",
      "execution_count": 8,
      "metadata": {
        "id": "W44RIIpnIexj"
      },
      "outputs": [],
      "source": [
        "import requests\n",
        "import json\n",
        "\n",
        "def get_address(hospital):\n",
        "  \"\"\"(str) -> (str)\n",
        "   Function will acquire the hospital's address from json\n",
        "\n",
        "   >>> get_address('PHOEBE SUMTER MEDICAL CENTER')\n",
        "   '126 HIGHWAY 280 W'\n",
        "\n",
        "   >>> get_address('ATHENS REGIONAL MED CENTER')\n",
        "   '1199 PRINCE AVENUE'\n",
        "\n",
        "   >>> get_address('ST MARYS HEALTH CARE SYSTEM')\n",
        "   '1230 BAXTER STREET'\n",
        "  \"\"\"\n",
        "\n",
        "  # Load\n",
        "  with open('ga_hospitals.json') as ga:\n",
        "    hospital_json = json.load(ga)\n",
        "\n",
        "  address = hospital_json[hospital]['ADDRESS']\n",
        "\n",
        "  # Check\n",
        "  if hospital in hospital_json:\n",
        "    return address\n",
        "  else:\n",
        "    return None"
      ]
    },
    {
      "cell_type": "markdown",
      "metadata": {
        "id": "NpgDzyNVIexj"
      },
      "source": [
        "## Part 4: Run the risk calculator on a population\n",
        "\n",
        "At the link below, there is a file called `people.psv`.  It is a pipe-delimited (`|`) file with columns that match the inputs for the PRIEST calculation above.  Your code should use the `requests` module to retrieve the file from this URL.\n",
        "\n",
        "`https://drive.google.com/uc?export=download&id=1fLxJN9YGUqmqExrilxSS8furwUER5HHh`\n",
        "\n",
        "\n",
        "In addition, the file has a patient identifier in the first column.\n",
        "\n",
        "1. Write a function called **process_people()** that takes the file location above as its only parameter. Your Python program should use your code above to process all of these rows, determine the hospital and address, and return a list whose items are a dictionary like this: `{ patient_number: [sex, age, breath, o2sat, heart, systolic, temp, alertness, inspired, status, hospital, address]}`.  Look at the file in Part 5 for what the output looks like.\n",
        "2. Be sure to use good docstrings, but you don't need any tests in your doc strings.  I've provided those for you withe file in Part 5.\n",
        "\n",
        "\n",
        "**NOTE** that when running your code for all the 100 records in the `people.psv` file, it may take a few minutes to complete.  You're making multiple calls to the internet for each record, so that can take a little while.\n"
      ]
    },
    {
      "cell_type": "code",
      "execution_count": 9,
      "metadata": {
        "id": "zxci_MrLIexj"
      },
      "outputs": [],
      "source": [
        "import pandas as pd\n",
        "\n",
        "def process_people(path):\n",
        "  \"\"\"(path) -> (dict)\n",
        "   Function wil use path provided and returns a list of dictionaries.\n",
        "  \"\"\"\n",
        "  last_return = {}\n",
        "\n",
        "  # Load\n",
        "  csv = pd.read_csv(path, sep='|')\n",
        "\n",
        "  # Loop using 'iterrows()'(https://www.w3schools.com/python/pandas/ref_df_iterrows.asp)\n",
        "  for index, row in csv.iterrows():\n",
        "    patients_code = row['patient']\n",
        "    patients_sex = row['sex']\n",
        "    patients_age = row['age']\n",
        "    patients_resp = row['breath']\n",
        "    patients_os = row['o2 sat']\n",
        "    patients_heart = row['heart']\n",
        "    patients_bp = row['systolic bp']\n",
        "    patients_temp = row['temp']\n",
        "    patients_alert = row['alertness']\n",
        "    patients_inspo = row['inspired']\n",
        "    patients_status = row['status']\n",
        "\n",
        "    calculate_risk = priest(patients_sex, patients_age, patients_resp, patients_os, patients_heart, patients_bp, patients_temp, patients_alert, patients_inspo, patients_status)\n",
        "    hospital_name = find_hospital(patients_age, patients_sex, calculate_risk)\n",
        "    hospital_address = get_address(hospital_name.upper())\n",
        "\n",
        "    last_return[patients_code] = [\n",
        "        patients_sex, patients_age, patients_resp, patients_os, patients_heart, patients_bp, patients_temp, patients_alert, patients_inspo, patients_status, calculate_risk, hospital_name, hospital_address\n",
        "    ]\n",
        "\n",
        "  return last_return"
      ]
    },
    {
      "cell_type": "markdown",
      "metadata": {
        "id": "lciBUlKFIexk"
      },
      "source": [
        "## Part 5: Checking your final results\n",
        "\n",
        "The final step is to check your results.  You should be able to compare your results to the output in `people_results.json` at the link below.  Write some code to check your results.  This does not need to be a function.\n",
        "\n",
        "`https://drive.google.com/uc?export=download&id=1gx1SSC20mO5XL6uYD0mdcM_cL91fcIW5`\n"
      ]
    },
    {
      "cell_type": "code",
      "execution_count": 10,
      "metadata": {
        "id": "9o50JzieIexk",
        "outputId": "a8ffd090-fd0d-486b-9d55-d8df221fb16f",
        "colab": {
          "base_uri": "https://localhost:8080/"
        }
      },
      "outputs": [
        {
          "output_type": "stream",
          "name": "stdout",
          "text": [
            "Correct\n"
          ]
        }
      ],
      "source": [
        "# Final check\n",
        "# Load\n",
        "with open('people_results.json') as people:\n",
        "  final_check = json.load(people)\n",
        "\n",
        "# Correct or Incorrect\n",
        "if process_people('people.psv') == final_check:\n",
        "    print('Correct')\n",
        "else:\n",
        "    print('Incorrect')\n"
      ]
    },
    {
      "cell_type": "markdown",
      "metadata": {
        "id": "UucwF6fSIexk"
      },
      "source": [
        "---\n",
        "\n",
        "## Check your work above\n",
        "\n",
        "If you didn't get them all correct, take a few minutes to think through those that aren't correct.\n",
        "\n",
        "\n",
        "## Submitting Your Work\n",
        "\n",
        "Submit your work as usual into a folder named `midterm`"
      ]
    },
    {
      "cell_type": "markdown",
      "metadata": {
        "id": "DKpCm7h6Iexk"
      },
      "source": [
        "---"
      ]
    }
  ],
  "metadata": {
    "kernelspec": {
      "display_name": "Python 3",
      "language": "python",
      "name": "python3"
    },
    "language_info": {
      "codemirror_mode": {
        "name": "ipython",
        "version": 3
      },
      "file_extension": ".py",
      "mimetype": "text/x-python",
      "name": "python",
      "nbconvert_exporter": "python",
      "pygments_lexer": "ipython3",
      "version": "3.9.16"
    },
    "colab": {
      "provenance": []
    }
  },
  "nbformat": 4,
  "nbformat_minor": 0
}