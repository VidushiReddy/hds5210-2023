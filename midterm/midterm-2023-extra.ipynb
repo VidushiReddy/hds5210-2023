{
  "cells": [
    {
      "cell_type": "markdown",
      "metadata": {
        "id": "PtGAJK0r0TfS"
      },
      "source": [
        "# Extra Credit\n",
        "\n",
        "For upto an additional 15 extra credit points on the midterm exam, you can write another function that applies additional criteria on top of what the midterm already did.  To earn the addition points, you need write a function called `summarize_results(patients)` to take the output of your  `process_people()` function to apply a new business rule and summarize the results.\n",
        "\n",
        "* Your function should take the dictionary created by `process_people()` as it's one input parameter: `patients`.\n",
        "* If the PRIEST probably is less than 10%, change the `hospital` and `address` to both have a value of `'Home'` indicating patients with a lower probability of an adverse outcome can just go home rather than be admitted to a hospital.\n",
        "* Summarize those results and count how many patients are now being sent to each location.  Your result should have the following format:\n",
        "```\n",
        "{\n",
        "    \"Home\": 123,\n",
        "    \"Hospital A\": 10,\n",
        "    \"Hospital B\": 20,\n",
        "    \"Hospital C\": 30\n",
        "}\n",
        "```\n",
        "\n",
        "As always, your function needs good docstrings; but does not require any doctests in this case."
      ]
    },
    {
      "cell_type": "code",
      "source": [
        "import pandas as pd\n",
        "import requests"
      ],
      "metadata": {
        "id": "ahdHLNqbSAcv"
      },
      "execution_count": 13,
      "outputs": []
    },
    {
      "cell_type": "code",
      "source": [
        "def priest(patients_sex, patients_age, patients_resp, patients_os, patients_heart, patients_bp, patients_temp, patients_alert, patients_inspo, patients_status):\n",
        "    \"\"\"(str, int, int, int, int, float, float, str, str, str) -> (float)\n",
        "    Compute a risk percentage using the algorithm from MDCalc portal.\n",
        "\n",
        "    >>> priest('Male', 81, 27, 0.91, 40, 111, 36.1, 'Alert', 'AIR', 'Unrestricted normal activity')\n",
        "    0.47\n",
        "\n",
        "    >>> priest('MALE', 66, 12, 0.97, 132, 80, 34.5, 'Alert', 'Supplemental oxygen', 'Bed/chair bound, no self-care')\n",
        "    0.59\n",
        "\n",
        "    >>> priest('MALE', 16, 8, 0.89, 51, 169, 38.9, 'Confused or not alert', 'Supplemental oxygen', 'Unrestricted normal activity')\n",
        "    0.46\n",
        "    \"\"\"\n",
        "    risk_count = 0\n",
        "    last_risk = 0\n",
        "\n",
        "    # 'casefold()' method is stronger(https://www.w3schools.com/python/ref_string_casefold.asp)\n",
        "    patients_status = patients_status.casefold()\n",
        "    patients_sex = patients_sex.casefold()\n",
        "    patients_alert = patients_alert.casefold()\n",
        "    patients_inspo = patients_inspo.casefold()\n",
        "\n",
        "    # check\n",
        "    if patients_status not in [\"unrestricted normal activity\", \"limited strenuous activity, can do light activity\",\n",
        "                               \"limited activity, can self-care\", \"limited self-care\", \"bed/chair bound, no self-care\"]:\n",
        "        return None\n",
        "    if patients_sex not in [\"male\", \"female\"]:\n",
        "        return None\n",
        "    if patients_alert not in [\"alert\", \"confused or not alert\"]:\n",
        "        return None\n",
        "    if patients_inspo not in [\"air\", \"supplemental oxygen\"]:\n",
        "        return None\n",
        "\n",
        "    # Sex\n",
        "    if patients_sex == \"male\":\n",
        "        risk_count += 1\n",
        "\n",
        "    # Age\n",
        "    if patients_age > 80:\n",
        "        risk_count += 4\n",
        "    elif patients_age >= 66:\n",
        "        risk_count += 3\n",
        "    elif patients_age >= 50:\n",
        "        risk_count += 2\n",
        "\n",
        "    # Respiratory rate\n",
        "    if patients_resp < 9:\n",
        "        risk_count += 3\n",
        "    if patients_resp > 24:\n",
        "        risk_count += 3\n",
        "    elif 21 <= patients_resp <= 24:\n",
        "        risk_count += 2\n",
        "    elif 9 <= patients_resp <= 11:\n",
        "        risk_count += 1\n",
        "\n",
        "    # Oxygen saturation\n",
        "    if patients_os < 0.92:\n",
        "        risk_count += 3\n",
        "    elif patients_os <= 0.93:\n",
        "        risk_count += 2\n",
        "    elif patients_os <= 0.95:\n",
        "        risk_count += 1\n",
        "\n",
        "    # Heart rate\n",
        "    if patients_heart > 130:\n",
        "        risk_count += 3\n",
        "    elif patients_heart < 41:\n",
        "        risk_count += 3\n",
        "    elif 50 >= patients_heart >= 41 or 110 >= patients_heart >= 91:\n",
        "        risk_count += 1\n",
        "    elif 130 >= patients_heart >= 111:\n",
        "        risk_count += 2\n",
        "\n",
        "    # Systolic BP\n",
        "    if patients_bp < 91 or patients_bp > 219:\n",
        "        risk_count += 3\n",
        "    elif 91 <= patients_bp <= 100:\n",
        "        risk_count += 2\n",
        "    elif 101 <= patients_bp <= 110:\n",
        "        risk_count += 1\n",
        "\n",
        "    # Temperature\n",
        "    if patients_temp < 35.1:\n",
        "        risk_count += 3\n",
        "    elif 35.1 <= patients_temp <= 36.0:\n",
        "        risk_count += 1\n",
        "    elif 38.1 <= patients_temp <= 39.0:\n",
        "        risk_count += 1\n",
        "    elif 36.1 <= patients_temp <= 38.0:\n",
        "        risk_count += 0\n",
        "    else:\n",
        "        risk_count += 2\n",
        "\n",
        "    # Alertness\n",
        "    if patients_alert == \"confused or not alert\":\n",
        "        risk_count += 3\n",
        "\n",
        "    # Inspired oxygen\n",
        "    if patients_inspo == \"supplemental oxygen\":\n",
        "        risk_count += 2\n",
        "\n",
        "    # Performance status\n",
        "    if patients_status == \"bed/chair bound, no self-care\":\n",
        "        risk_count += 4\n",
        "    elif patients_status == \"limited strenuous activity, can do light activity\":\n",
        "        risk_count += 1\n",
        "    elif patients_status == \"limited activity, can self-care\":\n",
        "        risk_count += 2\n",
        "    elif patients_status == \"limited self-care\":\n",
        "        risk_count += 3\n",
        "\n",
        "    # Risk percentage\n",
        "    risk_map = {0: 0.01, 1: 0.01, 2: 0.02, 3: 0.02, 4: 0.03, 5: 0.09, 6: 0.15, 7: 0.18, 8: 0.22, 9: 0.26, 10: 0.29,\n",
        "                    11: 0.34, 12: 0.38, 13: 0.46, 14: 0.47, 15: 0.49, 16: 0.55}\n",
        "\n",
        "    if risk_count in risk_map:\n",
        "        last_risk += risk_map[risk_count]\n",
        "    elif 17 <= risk_count <= 25:\n",
        "        last_risk += 0.59\n",
        "    else:\n",
        "        last_risk += 0.99\n",
        "\n",
        "    # Return\n",
        "    return last_risk\n"
      ],
      "metadata": {
        "id": "jb_lxRa2Sy_3"
      },
      "execution_count": 14,
      "outputs": []
    },
    {
      "cell_type": "code",
      "source": [
        "import requests\n",
        "\n",
        "def find_hospital(age, sex, priest):\n",
        "  \"\"\"(int, str, float) -> (str)\n",
        "  The function retrieves the name of the hospital by accessing a web service.\n",
        "\n",
        "  >>> find_hospital(30, 'male', 0.10)\n",
        "  'Southwest Hospital and Medical Center'\n",
        "\n",
        "  >>> find_hospital(30, 'female', 0.20)\n",
        "  'Select Specialty Hospital - Northeast Atlanta'\n",
        "\n",
        "  >>> find_hospital(68, 'male', 0.30)\n",
        "  'Wesley Woods Geriatric Hospital'\n",
        "  \"\"\"\n",
        "  # REST web service\n",
        "  api = 'https://oumdj6oci2.execute-api.us-east-1.amazonaws.com/prd/?age={}&sex={}&risk_pct={}'.format(age, sex, priest)\n",
        "  request = requests.get(api)\n",
        "\n",
        "  hospital_json = request.json()\n",
        "  hospital = hospital_json.get('hospital')\n",
        "\n",
        "  # Check\n",
        "  if hospital_json:\n",
        "    return hospital\n",
        "  else:\n",
        "    return None"
      ],
      "metadata": {
        "id": "aHxsqHR1SyzF"
      },
      "execution_count": 15,
      "outputs": []
    },
    {
      "cell_type": "code",
      "source": [
        "import requests\n",
        "import json\n",
        "\n",
        "def get_address(hospital):\n",
        "  \"\"\"(str) -> (str)\n",
        "   Function will acquire the hospital's address from json\n",
        "\n",
        "   >>> get_address('PHOEBE SUMTER MEDICAL CENTER')\n",
        "   '126 HIGHWAY 280 W'\n",
        "\n",
        "   >>> get_address('ATHENS REGIONAL MED CENTER')\n",
        "   '1199 PRINCE AVENUE'\n",
        "\n",
        "   >>> get_address('ST MARYS HEALTH CARE SYSTEM')\n",
        "   '1230 BAXTER STREET'\n",
        "  \"\"\"\n",
        "\n",
        "  # Load\n",
        "  with open('ga_hospitals.json') as ga:\n",
        "    hospital_json = json.load(ga)\n",
        "\n",
        "  address = hospital_json[hospital]['ADDRESS']\n",
        "\n",
        "  # Check\n",
        "  if hospital in hospital_json:\n",
        "    return address\n",
        "  else:\n",
        "    return None"
      ],
      "metadata": {
        "id": "Cuju-lQ0SylH"
      },
      "execution_count": 16,
      "outputs": []
    },
    {
      "cell_type": "code",
      "source": [
        "import pandas as pd\n",
        "\n",
        "def process_people(path):\n",
        "  \"\"\"(path) -> (dict)\n",
        "   Function wil use path provided and returns a list of dictionaries.\n",
        "  \"\"\"\n",
        "  last_return = {}\n",
        "\n",
        "  # Load\n",
        "  csv = pd.read_csv(path, sep='|')\n",
        "\n",
        "  # Loop using 'iterrows()'(https://www.w3schools.com/python/pandas/ref_df_iterrows.asp)\n",
        "  for index, row in csv.iterrows():\n",
        "    patients_code = row['patient']\n",
        "    patients_sex = row['sex']\n",
        "    patients_age = row['age']\n",
        "    patients_resp = row['breath']\n",
        "    patients_os = row['o2 sat']\n",
        "    patients_heart = row['heart']\n",
        "    patients_bp = row['systolic bp']\n",
        "    patients_temp = row['temp']\n",
        "    patients_alert = row['alertness']\n",
        "    patients_inspo = row['inspired']\n",
        "    patients_status = row['status']\n",
        "\n",
        "    calculate_risk = priest(patients_sex, patients_age, patients_resp, patients_os, patients_heart, patients_bp, patients_temp, patients_alert, patients_inspo, patients_status)\n",
        "    hospital_name = find_hospital(patients_age, patients_sex, calculate_risk)\n",
        "    hospital_address = get_address(hospital_name.upper())\n",
        "\n",
        "    last_return[patients_code] = [\n",
        "        patients_sex, patients_age, patients_resp, patients_os, patients_heart, patients_bp, patients_temp, patients_alert, patients_inspo, patients_status, calculate_risk, hospital_name, hospital_address\n",
        "    ]\n",
        "\n",
        "  return last_return"
      ],
      "metadata": {
        "id": "PO9u-bL7T6Va"
      },
      "execution_count": 17,
      "outputs": []
    },
    {
      "cell_type": "code",
      "source": [
        "def summarize_results(final):\n",
        "    \"\"\"(dict) -> (dict)\n",
        "    updates the 'hospital' and 'address' to 'Home' for risk under 10% and summarizes at the end .\n",
        "    \"\"\"\n",
        "    sumz = {}\n",
        "    for i in final.values():\n",
        "      if i[11] not in sumz:\n",
        "        sumz[i[11]] = 0\n",
        "      if i[10] < 0.1:\n",
        "         i[11] = \"Home\"\n",
        "         i[12] = \"Home\"\n",
        "      else:\n",
        "         sumz[i[11]] += 1\n",
        "\n",
        "      sumz[\"Home\"] = sum(1 for i in final.values() if i[11] == \"Home\")\n",
        "\n",
        "    return sumz"
      ],
      "metadata": {
        "id": "8G0ICsaAT6qv"
      },
      "execution_count": 18,
      "outputs": []
    },
    {
      "cell_type": "code",
      "source": [
        "summ = process_people('people.psv')"
      ],
      "metadata": {
        "id": "Gt5YSvd6USMJ"
      },
      "execution_count": 19,
      "outputs": []
    },
    {
      "cell_type": "code",
      "source": [
        "summarize_results(summ)"
      ],
      "metadata": {
        "colab": {
          "base_uri": "https://localhost:8080/"
        },
        "id": "ijTJJcXvU83F",
        "outputId": "a5aeebde-a29d-47c9-be72-7a4f0220ddf7"
      },
      "execution_count": 20,
      "outputs": [
        {
          "output_type": "execute_result",
          "data": {
            "text/plain": [
              "{'Select Specialty Hospital - Northeast Atlanta': 32,\n",
              " 'Home': 24,\n",
              " 'Wesley Woods Geriatric Hospital': 20,\n",
              " 'Southwest Hospital and Medical Center': 16,\n",
              " 'Childrens Healthcare of Atlanta at Scottish Rite': 1,\n",
              " 'Hughes Spalding Childrens Hospital': 1,\n",
              " 'Emory Dunwoody Medical Center': 5}"
            ]
          },
          "metadata": {},
          "execution_count": 20
        }
      ]
    }
  ],
  "metadata": {
    "kernelspec": {
      "display_name": ".venv",
      "language": "python",
      "name": "python3"
    },
    "language_info": {
      "codemirror_mode": {
        "name": "ipython",
        "version": 3
      },
      "file_extension": ".py",
      "mimetype": "text/x-python",
      "name": "python",
      "nbconvert_exporter": "python",
      "pygments_lexer": "ipython3",
      "version": "3.9.16"
    },
    "colab": {
      "provenance": []
    }
  },
  "nbformat": 4,
  "nbformat_minor": 0
}